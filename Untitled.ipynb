{
 "cells": [
  {
   "cell_type": "markdown",
   "id": "699a01ea",
   "metadata": {},
   "source": [
    "# making a deep neural network from scratch\n"
   ]
  },
  {
   "cell_type": "code",
   "execution_count": null,
   "id": "6e7174e6",
   "metadata": {},
   "outputs": [],
   "source": [
    "import numpy as np\n",
    "import pandas as pd\n",
    "from sklearn.model_selection import train_test_split\n",
    "from sklearn.preprocessing import StandardScaler"
   ]
  },
  {
   "cell_type": "code",
   "execution_count": 3,
   "id": "a8859833",
   "metadata": {},
   "outputs": [],
   "source": [
    "x = np.random.randn(3, 4)\n",
    "y = np.random.randn(3, 4)   \n",
    "a = {'a':y, 'b':x, 'c': np.random.randn(1, 3)}\n",
    "    "
   ]
  },
  {
   "cell_type": "code",
   "execution_count": 8,
   "id": "5e11c79c",
   "metadata": {},
   "outputs": [
    {
     "name": "stdout",
     "output_type": "stream",
     "text": [
      "[[ 0.15464906 -0.79780783  1.58023002]]\n"
     ]
    }
   ],
   "source": [
    "for item in a.items():\n",
    "    if item[0].startswith(\"c\"): \n",
    "        print(item[1])"
   ]
  },
  {
   "cell_type": "code",
   "execution_count": null,
   "id": "920339a1",
   "metadata": {},
   "outputs": [],
   "source": []
  }
 ],
 "metadata": {
  "kernelspec": {
   "display_name": "DL",
   "language": "python",
   "name": "dl"
  },
  "language_info": {
   "codemirror_mode": {
    "name": "ipython",
    "version": 3
   },
   "file_extension": ".py",
   "mimetype": "text/x-python",
   "name": "python",
   "nbconvert_exporter": "python",
   "pygments_lexer": "ipython3",
   "version": "3.8.1"
  }
 },
 "nbformat": 4,
 "nbformat_minor": 5
}
